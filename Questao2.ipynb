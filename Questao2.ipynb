{
 "cells": [
  {
   "cell_type": "code",
   "execution_count": null,
   "metadata": {},
   "outputs": [],
   "source": [
    "!pip install scikit-fuzzy"
   ]
  },
  {
   "cell_type": "code",
   "execution_count": 167,
   "metadata": {},
   "outputs": [],
   "source": [
    "import numpy as np\n",
    "import pandas as pd\n",
    "import skfuzzy as fuzz\n",
    "from skfuzzy import control as ctrl"
   ]
  },
  {
   "cell_type": "markdown",
   "metadata": {},
   "source": [
    "### Entradas e Saídas Fuzzy"
   ]
  },
  {
   "cell_type": "markdown",
   "metadata": {},
   "source": [
    "Universo das entradas"
   ]
  },
  {
   "cell_type": "code",
   "execution_count": null,
   "metadata": {},
   "outputs": [],
   "source": [
    "T = ctrl.Antecedent(np.arange(800, 1201, 1), 'temperatura')\n",
    "P = ctrl.Antecedent(np.arange(4, 12.1, .1), 'pressao')"
   ]
  },
  {
   "cell_type": "markdown",
   "metadata": {},
   "source": [
    "Funçoes de pertinência das variáveis de entrada"
   ]
  },
  {
   "cell_type": "code",
   "execution_count": 117,
   "metadata": {},
   "outputs": [],
   "source": [
    "# temperatura\n",
    "T['baixa'] = fuzz.trapmf(T.universe, [800, 800, 900,1000]) #FP trapezoidal\n",
    "T['media'] = fuzz.trimf(T.universe,  [900,1000,1100]) #FP tringular\n",
    "T['alta'] = fuzz.trapmf(T.universe,  [1000,1100,1200,1200]) #FP trapezoidal\n",
    "#T.view()\n",
    "\n",
    "#pressão\n",
    "P['baixa'] = fuzz.gaussmf(P.universe, 4, 2) #FP gaussiana\n",
    "P['media'] = fuzz.gaussmf(P.universe, 8, 1.3) #FP gaussiana\n",
    "P['alta'] = fuzz.gaussmf(P.universe, 12, 2) #FP gaussiana\n",
    "#P.view()"
   ]
  },
  {
   "cell_type": "markdown",
   "metadata": {},
   "source": [
    "Domínio da variável de saída"
   ]
  },
  {
   "cell_type": "code",
   "execution_count": 119,
   "metadata": {},
   "outputs": [],
   "source": [
    "V = ctrl.Consequent(np.arange(0, 3.1, .1), 'vazao')"
   ]
  },
  {
   "cell_type": "markdown",
   "metadata": {},
   "source": [
    "Funçoes de pertinência da variável de saída"
   ]
  },
  {
   "cell_type": "code",
   "execution_count": 121,
   "metadata": {},
   "outputs": [],
   "source": [
    "# vazão\n",
    "V['baixa'] = fuzz.trapmf(V.universe,      [0, 0, 0.5, 1]) #FP trapezoidal\n",
    "V['media-baixa'] = fuzz.trimf(V.universe, [0.5, 1, 1.5]) #FP tringular\n",
    "V['media'] = fuzz.trimf(V.universe,       [1, 1.5, 2]) #FP tringular\n",
    "V['media-alta'] = fuzz.trimf(V.universe,  [1.5, 2, 2.5]) #FP tringular\n",
    "V['alta'] = fuzz.trapmf(V.universe,       [2, 2.5, 3, 3]) #FP trapezoidal\n",
    "#V.view()"
   ]
  },
  {
   "cell_type": "code",
   "execution_count": 282,
   "metadata": {},
   "outputs": [],
   "source": [
    "x = np.arange(0, 3.1, .1)\n",
    "mfx = fuzz.trapmf(x, [0, 0, 0.5, 1]) #FP trapezoidal\n",
    "\n",
    "# Defuzzify this membership function five ways\n",
    "defuzz_centroid = fuzz.defuzz(x, mfx, 'centroid')  # Same as skfuzzy.centroid"
   ]
  },
  {
   "cell_type": "markdown",
   "metadata": {},
   "source": [
    "### Regras Fuzzy"
   ]
  },
  {
   "cell_type": "code",
   "execution_count": 9,
   "metadata": {},
   "outputs": [],
   "source": [
    "# Regra 1 - Se Temperatura é Baixa e Pressão é Baixa então Vazão é Baixa\n",
    "R1 = ctrl.Rule(T['baixa'] & P['baixa'], V['baixa'])\n",
    "#R1.view()\n",
    "\n",
    "# Regra 2: Se Temperatura é Baixa e Pressão é Média então Vazão é Média- Baixa\n",
    "R2 = ctrl.Rule(T['baixa'] & P['media'], V['media-baixa'])\n",
    "#R2.view()\n",
    "\n",
    "# Regra 3: Se Temperatura é Baixa e Pressão é Alta então Vazão é Média\n",
    "R3 = ctrl.Rule(T['baixa'] & P['alta'], V['media'])\n",
    "#R3.view()\n",
    "\n",
    "# Regra 4: Se Temperatura é Média e Pressão é Baixa então Vazão é Média-Baixa\n",
    "R4 = ctrl.Rule(T['media'] & P['baixa'], V['media-baixa'])\n",
    "#R4.view()\n",
    "\n",
    "# Regra 5: Se Temperatura é Média e Pressão é Média então Vazão é Média\n",
    "R5 = ctrl.Rule(T['media'] & P['media'], V['media'])\n",
    "#R5.view()\n",
    "\n",
    "# Regra 6: Se Temperatura é Média e Pressão é Alta então Vazão é Média-Alta\n",
    "R6 = ctrl.Rule(T['baixa'] & P['alta'], V['media-alta'])\n",
    "#R6.view()\n",
    "\n",
    "# Regra 7: Se Temperatura é Alta e Pressão é Baixa então Vazão é Média\n",
    "R7= ctrl.Rule(T['alta'] & P['baixa'], V['media'])\n",
    "#R7.view()\n",
    "\n",
    "# Regra 8: Se Temperatura é Alta e Pressão é Média então Vazão é Média-Alta\n",
    "R8= ctrl.Rule(T['alta'] & P['media'], V['media-alta'])\n",
    "#R8.view()\n",
    "\n",
    "# Regra 9: Se Temperatura é Alta e Pressão é Alta então Vazão é Alta\n",
    "R9 = ctrl.Rule(T['alta'] & P['alta'], V['alta'])\n",
    "#R9.view()"
   ]
  },
  {
   "cell_type": "markdown",
   "metadata": {},
   "source": [
    "### Processo de Inferência Fuzzy"
   ]
  },
  {
   "cell_type": "markdown",
   "metadata": {},
   "source": [
    "Dicionário de testes"
   ]
  },
  {
   "cell_type": "code",
   "execution_count": 126,
   "metadata": {},
   "outputs": [],
   "source": [
    "dic = {}\n",
    "dic['temperatura'] = [850,900,1000,1100,1150,880,950,1049,1089,1170]\n",
    "dic['pressao'] = [8,4.5,9,6,10,11,7,5,7,9]\n",
    "dic['vazao_desejada'] = [1.01,0.42,1.63,1.70,2.43,1.47,1.01,1.26,1.74,2.15]"
   ]
  },
  {
   "cell_type": "markdown",
   "metadata": {},
   "source": [
    "Controlador Fuzzy"
   ]
  },
  {
   "cell_type": "code",
   "execution_count": 278,
   "metadata": {},
   "outputs": [],
   "source": [
    "vazao_fuzzy = []\n",
    "caldeira_crtl = ctrl.ControlSystem(rules = [R1, R2, R3, R4, R5, R6, R7, R8, R9])\n",
    "engine = ctrl.ControlSystemSimulation(caldeira_crtl)\n",
    "\n",
    "def predicao_fuzzy (t,p):\n",
    "\n",
    "    engine.input['temperatura'] = t #entrada de temperatura\n",
    "    engine.input['pressao'] = p #entrada de pressão\n",
    "    engine.compute() #saída do controlador fuzzy\n",
    "    vazao_fuzzy.append(round(engine.output['vazao'],3)) # lista dos valores crisp\n",
    "    #V.view(sim=engine)\n",
    "\n",
    "for i in range(len(dic['temperatura'])):\n",
    "    predicao_fuzzy(dic['temperatura'][i],dic['pressao'][i])"
   ]
  },
  {
   "cell_type": "markdown",
   "metadata": {},
   "source": [
    "### Cálculo do Erro"
   ]
  },
  {
   "cell_type": "code",
   "execution_count": 284,
   "metadata": {},
   "outputs": [],
   "source": [
    "VF = np.array(vazao_fuzzy) # Vazão Fuzzy\n",
    "VD = dic['vazao_desejada'] # Vazão Desejada\n",
    "ER = abs(VF-VD)/VD *100 # Erro Relativo VD x VF"
   ]
  },
  {
   "cell_type": "code",
   "execution_count": 285,
   "metadata": {},
   "outputs": [
    {
     "data": {
      "text/html": [
       "<div>\n",
       "<style scoped>\n",
       "    .dataframe tbody tr th:only-of-type {\n",
       "        vertical-align: middle;\n",
       "    }\n",
       "\n",
       "    .dataframe tbody tr th {\n",
       "        vertical-align: top;\n",
       "    }\n",
       "\n",
       "    .dataframe thead th {\n",
       "        text-align: right;\n",
       "    }\n",
       "</style>\n",
       "<table border=\"1\" class=\"dataframe\">\n",
       "  <thead>\n",
       "    <tr style=\"text-align: right;\">\n",
       "      <th></th>\n",
       "      <th>Vazao Desejada</th>\n",
       "      <th>Vazao Estimada Fuzzy</th>\n",
       "      <th>Erro Relativo %</th>\n",
       "    </tr>\n",
       "  </thead>\n",
       "  <tbody>\n",
       "    <tr>\n",
       "      <th>0</th>\n",
       "      <td>1.01</td>\n",
       "      <td>1.109</td>\n",
       "      <td>9.801980</td>\n",
       "    </tr>\n",
       "    <tr>\n",
       "      <th>1</th>\n",
       "      <td>0.42</td>\n",
       "      <td>0.410</td>\n",
       "      <td>2.380952</td>\n",
       "    </tr>\n",
       "    <tr>\n",
       "      <th>2</th>\n",
       "      <td>1.63</td>\n",
       "      <td>1.465</td>\n",
       "      <td>10.122699</td>\n",
       "    </tr>\n",
       "    <tr>\n",
       "      <th>3</th>\n",
       "      <td>1.70</td>\n",
       "      <td>1.691</td>\n",
       "      <td>0.529412</td>\n",
       "    </tr>\n",
       "    <tr>\n",
       "      <th>4</th>\n",
       "      <td>2.43</td>\n",
       "      <td>2.389</td>\n",
       "      <td>1.687243</td>\n",
       "    </tr>\n",
       "    <tr>\n",
       "      <th>5</th>\n",
       "      <td>1.47</td>\n",
       "      <td>1.708</td>\n",
       "      <td>16.190476</td>\n",
       "    </tr>\n",
       "    <tr>\n",
       "      <th>6</th>\n",
       "      <td>1.01</td>\n",
       "      <td>1.061</td>\n",
       "      <td>5.049505</td>\n",
       "    </tr>\n",
       "    <tr>\n",
       "      <th>7</th>\n",
       "      <td>1.26</td>\n",
       "      <td>1.303</td>\n",
       "      <td>3.412698</td>\n",
       "    </tr>\n",
       "    <tr>\n",
       "      <th>8</th>\n",
       "      <td>1.74</td>\n",
       "      <td>1.774</td>\n",
       "      <td>1.954023</td>\n",
       "    </tr>\n",
       "    <tr>\n",
       "      <th>9</th>\n",
       "      <td>2.15</td>\n",
       "      <td>2.172</td>\n",
       "      <td>1.023256</td>\n",
       "    </tr>\n",
       "  </tbody>\n",
       "</table>\n",
       "</div>"
      ],
      "text/plain": [
       "   Vazao Desejada  Vazao Estimada Fuzzy  Erro Relativo %\n",
       "0            1.01                 1.109         9.801980\n",
       "1            0.42                 0.410         2.380952\n",
       "2            1.63                 1.465        10.122699\n",
       "3            1.70                 1.691         0.529412\n",
       "4            2.43                 2.389         1.687243\n",
       "5            1.47                 1.708        16.190476\n",
       "6            1.01                 1.061         5.049505\n",
       "7            1.26                 1.303         3.412698\n",
       "8            1.74                 1.774         1.954023\n",
       "9            2.15                 2.172         1.023256"
      ]
     },
     "execution_count": 285,
     "metadata": {},
     "output_type": "execute_result"
    }
   ],
   "source": [
    "data = {'Vazao Desejada': dic['vazao_desejada'],\n",
    "        'Vazao Estimada Fuzzy': vazao_fuzzy,\n",
    "        'Erro Relativo %': ER}\n",
    "df = pd.DataFrame(data)\n",
    "df"
   ]
  },
  {
   "cell_type": "markdown",
   "metadata": {},
   "source": [
    "Erro Relativo Médio"
   ]
  },
  {
   "cell_type": "code",
   "execution_count": 272,
   "metadata": {},
   "outputs": [
    {
     "data": {
      "text/plain": [
       "2.271"
      ]
     },
     "execution_count": 272,
     "metadata": {},
     "output_type": "execute_result"
    }
   ],
   "source": [
    "ERM = round(np.mean(df['Erro Relativo %']),3)\n",
    "ERM"
   ]
  },
  {
   "cell_type": "code",
   "execution_count": null,
   "metadata": {},
   "outputs": [],
   "source": []
  },
  {
   "cell_type": "code",
   "execution_count": null,
   "metadata": {},
   "outputs": [],
   "source": []
  }
 ],
 "metadata": {
  "kernelspec": {
   "display_name": "Python 3",
   "language": "python",
   "name": "python3"
  },
  "language_info": {
   "codemirror_mode": {
    "name": "ipython",
    "version": 3
   },
   "file_extension": ".py",
   "mimetype": "text/x-python",
   "name": "python",
   "nbconvert_exporter": "python",
   "pygments_lexer": "ipython3",
   "version": "3.6.9"
  }
 },
 "nbformat": 4,
 "nbformat_minor": 4
}
